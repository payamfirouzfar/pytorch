{
  "nbformat": 4,
  "nbformat_minor": 0,
  "metadata": {
    "colab": {
      "name": "pytorch.ipynb",
      "provenance": [],
      "authorship_tag": "ABX9TyM9rgRi+EZfc6vhepvJR2Iy"
    },
    "kernelspec": {
      "name": "python3",
      "display_name": "Python 3"
    },
    "language_info": {
      "name": "python"
    },
    "accelerator": "GPU"
  },
  "cells": [
    {
      "cell_type": "code",
      "metadata": {
        "id": "auQxIsUu25Hn"
      },
      "source": [
        "import torch\n",
        "import torch.nn as nn\n",
        "import torchvision\n",
        "import torchvision.transforms as transforms\n",
        "import matplotlib.pyplot as plt"
      ],
      "execution_count": 1,
      "outputs": []
    },
    {
      "cell_type": "code",
      "metadata": {
        "id": "B-Pty3Cs9cPo"
      },
      "source": [
        "# device config\n",
        "device = torch.device(\"cuda\" )#if torch.cuda.is_available() else \"cpu\") \n",
        "#device"
      ],
      "execution_count": 2,
      "outputs": []
    },
    {
      "cell_type": "code",
      "metadata": {
        "id": "mGkuiIT19x6w"
      },
      "source": [
        "# hyperparameters\n",
        "input_size = 784\n",
        "hidden_size = 100\n",
        "num_class  = 10\n",
        "num_epochs = 2\n",
        "batch_size = 100\n",
        "learning_rate = 1e-3\n"
      ],
      "execution_count": 3,
      "outputs": []
    },
    {
      "cell_type": "code",
      "metadata": {
        "colab": {
          "base_uri": "https://localhost:8080/"
        },
        "id": "Ou7UUYTM-wQQ",
        "outputId": "89a155a0-6625-4f02-e519-243c437dac0a"
      },
      "source": [
        "#mnist\n",
        "train_dataset = torchvision.datasets.MNIST(root = \"./data\" , train = True , \n",
        "                                           transform = transforms.ToTensor() ,\n",
        "                                           download = True)\n",
        "test_dataset = torchvision.datasets.MNIST(root = \"./data\" , train = False , \n",
        "                                           transform = transforms.ToTensor() )\n",
        "train_loader = torch.utils.data.DataLoader(dataset = train_dataset , batch_size = batch_size,\n",
        "                                           shuffle = True)\n",
        "test_loader = torch.utils.data.DataLoader(dataset = test_dataset , batch_size = batch_size,\n",
        "                                           shuffle = False)\n",
        "examples = iter(train_loader)\n",
        "samples,labels = examples.next()\n",
        "print(samples.shape , labels.shape)"
      ],
      "execution_count": 4,
      "outputs": [
        {
          "output_type": "stream",
          "name": "stdout",
          "text": [
            "torch.Size([100, 1, 28, 28]) torch.Size([100])\n"
          ]
        },
        {
          "output_type": "stream",
          "name": "stderr",
          "text": [
            "/usr/local/lib/python3.7/dist-packages/torchvision/datasets/mnist.py:498: UserWarning: The given NumPy array is not writeable, and PyTorch does not support non-writeable tensors. This means you can write to the underlying (supposedly non-writeable) NumPy array using the tensor. You may want to copy the array to protect its data or make it writeable before converting it to a tensor. This type of warning will be suppressed for the rest of this program. (Triggered internally at  /pytorch/torch/csrc/utils/tensor_numpy.cpp:180.)\n",
            "  return torch.from_numpy(parsed.astype(m[2], copy=False)).view(*s)\n"
          ]
        }
      ]
    },
    {
      "cell_type": "code",
      "metadata": {
        "colab": {
          "base_uri": "https://localhost:8080/",
          "height": 267
        },
        "id": "Dzn1spf1Blcj",
        "outputId": "210181fe-1bce-4f51-cbf6-6f0fb264fd9d"
      },
      "source": [
        "for i in range(6):\n",
        "  plt.subplot(2,3,i+1)\n",
        "  plt.imshow(samples[i][0], cmap = \"gray\")\n",
        "plt.show()"
      ],
      "execution_count": 5,
      "outputs": [
        {
          "output_type": "display_data",
          "data": {
            "image/png": "[encoded data removed]",
            "text/plain": [
              "<Figure size 432x288 with 6 Axes>"
            ]
          },
          "metadata": {
            "needs_background": "light"
          }
        }
      ]
    },
    {
      "cell_type": "code",
      "metadata": {
        "colab": {
          "base_uri": "https://localhost:8080/"
        },
        "id": "VxKpCpwOUmq5",
        "outputId": "63d0f552-bd57-4512-b4b8-4b8223494c70"
      },
      "source": [
        "class NeuralNet(nn.Module):\n",
        "  def __init__(self , input_size , hidden_size , num_class):\n",
        "    super(NeuralNet , self).__init__()\n",
        "    self.l1 = nn.Linear(input_size  , hidden_size)\n",
        "    self.relu = nn.ReLU()\n",
        "    self.l3 = nn.Linear(hidden_size , 703)\n",
        "    self.relu2 = nn.ReLU()\n",
        "    self.l6 = nn.Linear(703 , 591)\n",
        "    self.relu5 = nn.ReLU()\n",
        "    self.l4 = nn.Linear(591 , 479)\n",
        "    self.relu3 = nn.ReLU()\n",
        "    self.l5 = nn.Linear(479 , 386)\n",
        "    self.relu4 = nn.ReLU()\n",
        "    self.l2 = nn.Linear(386 , 261)\n",
        "    self.relu7 = nn.ReLU()\n",
        "    self.l7 = nn.Linear(261 , num_class)\n",
        "\n",
        "\n",
        "  def forward(self , x):\n",
        "    out = self.l1(x)\n",
        "    out = self.relu(out)\n",
        "    out = self.l3(out)\n",
        "    out = self.relu2(out)\n",
        "    out = self.l6(out)\n",
        "    out = self.relu5(out)\n",
        "    out = self.l4(out)\n",
        "    out = self.relu3(out)\n",
        "    out = self.l5(out)\n",
        "    out = self.relu4(out)\n",
        "    out = self.l2(out)\n",
        "    out = self.relu7(out)\n",
        "    out = self.l7(out)\n",
        "    return(out)\n",
        "\n",
        "model = NeuralNet(input_size , hidden_size , num_class)\n",
        "\n",
        "criterion = nn.CrossEntropyLoss()\n",
        "optimizer = torch.optim.Adam(model.parameters(), lr = learning_rate)\n",
        "\n",
        "n_total_steps = len(train_loader)\n",
        "for epoch in range(num_epochs):\n",
        "  for i,(images , labels) in enumerate(train_loader):\n",
        "    images = images.reshape(-1 , 28*28) #-1 will calculate the first dimension automatically\n",
        "    labels = labels#to device will send it into GPU\n",
        "\n",
        "    outputs = model(images)  #we give the model x that is images for forward\n",
        "    loss = criterion(outputs , labels) #the entropy between outputs and labels\n",
        "\n",
        "    optimizer.zero_grad()  #put the gradient zero \n",
        "    loss.backward()   #backpro\n",
        "    optimizer.step()  #update parameters for us\n",
        "\n",
        "    if (i+1) % 100 ==0:\n",
        "      print(f\"epoch {epoch+1} / {num_epochs} , step{i+1} / {n_total_steps} , loss = {loss.item():.4f}\")\n",
        "\n",
        "#test\n",
        "with torch.no_grad():\n",
        "  n_correct = 0\n",
        "  n_samples = 0\n",
        "  for images , labels in test_loader:\n",
        "    #a = images.reshape(-1 , 28*28).to('cuda:0')\n",
        "    images = images.reshape(-1 , 28*28)#-1 will calculate the first dimension automatically\n",
        "    #b = labels.to('cuda:0')\n",
        "    labels = labels\n",
        "    outputs = model(images)\n",
        "    #this below torch.max will return value and index we want index\n",
        "    _ , predictions = torch.max(outputs , 1)\n",
        "    n_samples += labels.shape[0] # will return the labels and it's batch\n",
        "    n_correct += (predictions == labels).sum().item() # item will return complete value\n",
        "  acc = 100.0 * n_correct / n_samples\n",
        "  print(f\"accuracy = {acc}\")\n",
        "\n",
        "\n",
        "\n"
      ],
      "execution_count": 13,
      "outputs": [
        {
          "output_type": "stream",
          "name": "stdout",
          "text": [
            "epoch 1 / 2 , step100 / 600 , loss = 0.4512\n",
            "epoch 1 / 2 , step200 / 600 , loss = 0.4193\n",
            "epoch 1 / 2 , step300 / 600 , loss = 0.4200\n",
            "epoch 1 / 2 , step400 / 600 , loss = 0.2559\n",
            "epoch 1 / 2 , step500 / 600 , loss = 0.2238\n",
            "epoch 1 / 2 , step600 / 600 , loss = 0.1561\n",
            "epoch 2 / 2 , step100 / 600 , loss = 0.1052\n",
            "epoch 2 / 2 , step200 / 600 , loss = 0.1466\n",
            "epoch 2 / 2 , step300 / 600 , loss = 0.1621\n",
            "epoch 2 / 2 , step400 / 600 , loss = 0.0518\n",
            "epoch 2 / 2 , step500 / 600 , loss = 0.0757\n",
            "epoch 2 / 2 , step600 / 600 , loss = 0.1676\n",
            "accuracy = 95.5\n"
          ]
        }
      ]
    },
    {
      "cell_type": "code",
      "metadata": {
        "id": "MmfbPX36dxM-"
      },
      "source": [
        ""
      ],
      "execution_count": null,
      "outputs": []
    }
  ]
}