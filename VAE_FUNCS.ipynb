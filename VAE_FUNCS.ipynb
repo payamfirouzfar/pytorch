{
  "nbformat": 4,
  "nbformat_minor": 0,
  "metadata": {
    "colab": {
      "name": "VAE_FUNCS.ipynb",
      "provenance": [],
      "authorship_tag": "ABX9TyMBZeuy5ukvoDZL0YuE6OAS",
      "include_colab_link": true
    },
    "kernelspec": {
      "name": "python3",
      "display_name": "Python 3"
    },
    "language_info": {
      "name": "python"
    }
  },
  "cells": [
    {
      "cell_type": "markdown",
      "metadata": {
        "id": "view-in-github",
        "colab_type": "text"
      },
      "source": [
        "<a href=\"https://colab.research.google.com/github/payamfirouzfar/pytorch/blob/main/VAE_FUNCS.ipynb\" target=\"_parent\"><img src=\"https://colab.research.google.com/assets/colab-badge.svg\" alt=\"Open In Colab\"/></a>"
      ]
    },
    {
      "cell_type": "code",
      "metadata": {
        "cellView": "code",
        "id": "0eqVjY89nwX5"
      },
      "source": [
        "#VAE functions\n",
        "import torch\n",
        "import torch.nn as nn\n",
        "\n",
        "from functools import reduce\n",
        "from operator import mul\n",
        "\n",
        "\n",
        "class Flatten(nn.Module):\n",
        "    def forward(self, input):\n",
        "        return input.view(input.size(0), -1)\n",
        "\n",
        "\n",
        "class Unflatten(nn.Module):\n",
        "    def __init__(self, channel, height, width):\n",
        "        super(Unflatten, self).__init__()\n",
        "        self.channel = channel\n",
        "        self.height = height\n",
        "        self.width = width\n",
        "\n",
        "    def forward(self, input):\n",
        "        return input.view(input.size(0), self.channel, self.height, self.width)\n",
        "\n",
        "\n",
        "class ConvVAE(nn.Module):\n",
        "\n",
        "    def __init__(self, latent_size):\n",
        "        super(ConvVAE, self).__init__()\n",
        "\n",
        "        self.latent_size = latent_size\n",
        "\n",
        "        self.encoder = nn.Sequential(\n",
        "            nn.Conv2d(1, 64, kernel_size=4, stride=2, padding=1),\n",
        "            nn.ReLU(),\n",
        "            nn.Conv2d(64, 128, kernel_size=4, stride=2, padding=1),\n",
        "            nn.ReLU(),\n",
        "            Flatten(),\n",
        "            nn.Linear(6272, 1024),\n",
        "            nn.ReLU()\n",
        "        )\n",
        "\n",
        "        # hidden => mu\n",
        "        self.fc1 = nn.Linear(1024, self.latent_size)\n",
        "\n",
        "        # hidden => logvar\n",
        "        self.fc2 = nn.Linear(1024, self.latent_size)\n",
        "\n",
        "        self.decoder = nn.Sequential(\n",
        "            nn.Linear(self.latent_size, 1024),\n",
        "            nn.ReLU(),\n",
        "            nn.Linear(1024, 6272),\n",
        "            nn.ReLU(),\n",
        "            Unflatten(128, 7, 7),\n",
        "            nn.ReLU(),\n",
        "            nn.ConvTranspose2d(128, 64, kernel_size=4, stride=2, padding=1),\n",
        "            nn.ReLU(),\n",
        "            nn.ConvTranspose2d(64, 1, kernel_size=4, stride=2, padding=1),\n",
        "            nn.Sigmoid()\n",
        "        )\n",
        "\n",
        "    def encode(self, x):\n",
        "        h = self.encoder(x)\n",
        "        mu, logvar = self.fc1(h), self.fc2(h)\n",
        "        return mu, logvar\n",
        "\n",
        "    def decode(self, z):\n",
        "        z = self.decoder(z)\n",
        "        return z\n",
        "\n",
        "    def reparameterize(self, mu, logvar):\n",
        "        if self.training:\n",
        "            std = torch.exp(0.5 * logvar)\n",
        "            eps = torch.randn_like(std)\n",
        "            return eps.mul(std).add_(mu)\n",
        "        else:\n",
        "            return mu\n",
        "\n",
        "    def reparameterize_eval(self, mu, logvar):\n",
        "        std = torch.exp(0.5 * logvar)\n",
        "        eps = torch.randn_like(std)\n",
        "        return eps.mul(std).add_(mu)\n",
        "\n",
        "    def forward(self, x):\n",
        "        mu, logvar = self.encode(x)\n",
        "        z = self.reparameterize(mu, logvar)\n",
        "        return self.decode(z), mu, logvar"
      ],
      "execution_count": null,
      "outputs": []
    },
    {
      "cell_type": "code",
      "metadata": {
        "id": "Kb4WD_1l2WIU"
      },
      "source": [
        ""
      ],
      "execution_count": null,
      "outputs": []
    }
  ]
}